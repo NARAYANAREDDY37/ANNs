{
  "nbformat": 4,
  "nbformat_minor": 0,
  "metadata": {
    "colab": {
      "name": "ANNs.ipynb",
      "provenance": [],
      "authorship_tag": "ABX9TyNK2fpbeqrgZyq4BsvHrzw5",
      "include_colab_link": true
    },
    "kernelspec": {
      "name": "python3",
      "display_name": "Python 3"
    },
    "accelerator": "GPU"
  },
  "cells": [
    {
      "cell_type": "markdown",
      "metadata": {
        "id": "view-in-github",
        "colab_type": "text"
      },
      "source": [
        "<a href=\"https://colab.research.google.com/github/NARAYANAREDDY37/ANNs/blob/main/ANNs.ipynb\" target=\"_parent\"><img src=\"https://colab.research.google.com/assets/colab-badge.svg\" alt=\"Open In Colab\"/></a>"
      ]
    },
    {
      "cell_type": "code",
      "metadata": {
        "id": "yJZ7NzTJpMYW",
        "outputId": "1a985b23-569d-46ba-aa1b-4b6fe821ac80",
        "colab": {
          "base_uri": "https://localhost:8080/"
        }
      },
      "source": [
        "pip install Keras\n"
      ],
      "execution_count": 3,
      "outputs": [
        {
          "output_type": "stream",
          "text": [
            "Requirement already satisfied: Keras in /usr/local/lib/python3.6/dist-packages (2.4.3)\n",
            "Requirement already satisfied: numpy>=1.9.1 in /usr/local/lib/python3.6/dist-packages (from Keras) (1.18.5)\n",
            "Requirement already satisfied: h5py in /usr/local/lib/python3.6/dist-packages (from Keras) (2.10.0)\n",
            "Requirement already satisfied: pyyaml in /usr/local/lib/python3.6/dist-packages (from Keras) (3.13)\n",
            "Requirement already satisfied: scipy>=0.14 in /usr/local/lib/python3.6/dist-packages (from Keras) (1.4.1)\n",
            "Requirement already satisfied: six in /usr/local/lib/python3.6/dist-packages (from h5py->Keras) (1.15.0)\n"
          ],
          "name": "stdout"
        }
      ]
    },
    {
      "cell_type": "code",
      "metadata": {
        "id": "JCiensg_qYdF",
        "outputId": "d0d8fb97-6b20-46da-95eb-428797725b1f",
        "colab": {
          "base_uri": "https://localhost:8080/"
        }
      },
      "source": [
        "#to access kaggle datasets\n",
        "!pip install kaggle"
      ],
      "execution_count": 4,
      "outputs": [
        {
          "output_type": "stream",
          "text": [
            "Requirement already satisfied: kaggle in /usr/local/lib/python3.6/dist-packages (1.5.9)\n",
            "Requirement already satisfied: requests in /usr/local/lib/python3.6/dist-packages (from kaggle) (2.23.0)\n",
            "Requirement already satisfied: certifi in /usr/local/lib/python3.6/dist-packages (from kaggle) (2020.6.20)\n",
            "Requirement already satisfied: urllib3 in /usr/local/lib/python3.6/dist-packages (from kaggle) (1.24.3)\n",
            "Requirement already satisfied: python-slugify in /usr/local/lib/python3.6/dist-packages (from kaggle) (4.0.1)\n",
            "Requirement already satisfied: tqdm in /usr/local/lib/python3.6/dist-packages (from kaggle) (4.41.1)\n",
            "Requirement already satisfied: python-dateutil in /usr/local/lib/python3.6/dist-packages (from kaggle) (2.8.1)\n",
            "Requirement already satisfied: six>=1.10 in /usr/local/lib/python3.6/dist-packages (from kaggle) (1.15.0)\n",
            "Requirement already satisfied: slugify in /usr/local/lib/python3.6/dist-packages (from kaggle) (0.0.1)\n",
            "Requirement already satisfied: idna<3,>=2.5 in /usr/local/lib/python3.6/dist-packages (from requests->kaggle) (2.10)\n",
            "Requirement already satisfied: chardet<4,>=3.0.2 in /usr/local/lib/python3.6/dist-packages (from requests->kaggle) (3.0.4)\n",
            "Requirement already satisfied: text-unidecode>=1.3 in /usr/local/lib/python3.6/dist-packages (from python-slugify->kaggle) (1.3)\n"
          ],
          "name": "stdout"
        }
      ]
    },
    {
      "cell_type": "code",
      "metadata": {
        "id": "6YUJs8uvqbzV",
        "outputId": "dc82b8ba-5ebc-40aa-b465-a88a219689c3",
        "colab": {
          "base_uri": "https://localhost:8080/"
        }
      },
      "source": [
        "# Install kaggle packages\n",
        "!pip install -q kaggle\n",
        "!pip install -q kaggle-cli"
      ],
      "execution_count": 5,
      "outputs": [
        {
          "output_type": "stream",
          "text": [
            "\u001b[K     |████████████████████████████████| 81kB 7.3MB/s \n",
            "\u001b[K     |████████████████████████████████| 5.3MB 17.4MB/s \n",
            "\u001b[K     |████████████████████████████████| 133kB 54.9MB/s \n",
            "\u001b[K     |████████████████████████████████| 112kB 53.9MB/s \n",
            "\u001b[K     |████████████████████████████████| 51kB 7.8MB/s \n",
            "\u001b[?25h  Building wheel for kaggle-cli (setup.py) ... \u001b[?25l\u001b[?25hdone\n",
            "  Building wheel for PrettyTable (setup.py) ... \u001b[?25l\u001b[?25hdone\n",
            "  Building wheel for pyperclip (setup.py) ... \u001b[?25l\u001b[?25hdone\n"
          ],
          "name": "stdout"
        }
      ]
    },
    {
      "cell_type": "code",
      "metadata": {
        "id": "Svn1EevOrKHA",
        "outputId": "fa296a3e-0762-4f02-9867-dd18bfb54abc",
        "colab": {
          "resources": {
            "http://localhost:8080/nbextensions/google.colab/files.js": {
              "data": "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",
              "ok": true,
              "headers": [
                [
                  "content-type",
                  "application/javascript"
                ]
              ],
              "status": 200,
              "status_text": ""
            }
          },
          "base_uri": "https://localhost:8080/",
          "height": 72
        }
      },
      "source": [
        "# Colab's file access feature\n",
        "from google.colab import files\n",
        "\n",
        "# Upload `kaggle.json` file\n",
        "uploaded = files.upload()"
      ],
      "execution_count": 6,
      "outputs": [
        {
          "output_type": "display_data",
          "data": {
            "text/html": [
              "\n",
              "     <input type=\"file\" id=\"files-ade99b4f-5a65-46b5-9eba-0530439cf484\" name=\"files[]\" multiple disabled\n",
              "        style=\"border:none\" />\n",
              "     <output id=\"result-ade99b4f-5a65-46b5-9eba-0530439cf484\">\n",
              "      Upload widget is only available when the cell has been executed in the\n",
              "      current browser session. Please rerun this cell to enable.\n",
              "      </output>\n",
              "      <script src=\"/nbextensions/google.colab/files.js\"></script> "
            ],
            "text/plain": [
              "<IPython.core.display.HTML object>"
            ]
          },
          "metadata": {
            "tags": []
          }
        },
        {
          "output_type": "stream",
          "text": [
            "Saving kaggle.json to kaggle.json\n"
          ],
          "name": "stdout"
        }
      ]
    },
    {
      "cell_type": "code",
      "metadata": {
        "id": "EKqQvXy7rDgG",
        "outputId": "bb48e1d1-1521-437e-d529-b60d5b5f5ae2",
        "colab": {
          "base_uri": "https://localhost:8080/"
        }
      },
      "source": [
        "# Retrieve uploaded file\n",
        "# print results\n",
        "for fn in uploaded.keys():\n",
        "  print('User uploaded file \"{name}\" with length {length} bytes'.format(\n",
        "      name=fn, length=len(uploaded[fn])))\n",
        "\n",
        "# Then copy kaggle.json into the folder where the API expects to find it.\n",
        "!mkdir -p ~/.kaggle\n",
        "!cp kaggle.json ~/.kaggle/\n",
        "!chmod 600 ~/.kaggle/kaggle.json\n",
        "!ls ~/.kaggle"
      ],
      "execution_count": 7,
      "outputs": [
        {
          "output_type": "stream",
          "text": [
            "User uploaded file \"kaggle.json\" with length 71 bytes\n",
            "kaggle.json\n"
          ],
          "name": "stdout"
        }
      ]
    },
    {
      "cell_type": "code",
      "metadata": {
        "id": "062JgjGDrFFK",
        "outputId": "4e520f8f-a611-4e4f-fcfa-07235bc9e11f",
        "colab": {
          "base_uri": "https://localhost:8080/"
        }
      },
      "source": [
        "!kaggle datasets download -d shrutimechlearn/churn-modelling"
      ],
      "execution_count": 8,
      "outputs": [
        {
          "output_type": "stream",
          "text": [
            "Downloading churn-modelling.zip to /content\n",
            "\r  0% 0.00/262k [00:00<?, ?B/s]\n",
            "\r100% 262k/262k [00:00<00:00, 99.7MB/s]\n"
          ],
          "name": "stdout"
        }
      ]
    },
    {
      "cell_type": "code",
      "metadata": {
        "id": "9Zo3b8tirlfP",
        "outputId": "fa6aef87-3dc9-4f96-bebf-ca98699a3d25",
        "colab": {
          "base_uri": "https://localhost:8080/"
        }
      },
      "source": [
        "!unzip /content/churn-modelling.zip"
      ],
      "execution_count": 9,
      "outputs": [
        {
          "output_type": "stream",
          "text": [
            "Archive:  /content/churn-modelling.zip\n",
            "  inflating: Churn_Modelling.csv     \n"
          ],
          "name": "stdout"
        }
      ]
    },
    {
      "cell_type": "code",
      "metadata": {
        "id": "ZYogF1Xsr2lo"
      },
      "source": [
        "# Artificial Neural Network\n",
        "\n",
        "\n",
        "# Part 1 - Data Preprocessing\n",
        "\n",
        "# Importing the libraries\n",
        "import numpy as np\n",
        "import matplotlib.pyplot as plt\n",
        "import pandas as pd\n"
      ],
      "execution_count": 10,
      "outputs": []
    },
    {
      "cell_type": "code",
      "metadata": {
        "id": "xvefhrsdp7-S"
      },
      "source": [
        "# Importing the dataset\n",
        "dataset = pd.read_csv('/content/Churn_Modelling.csv')\n",
        "X = dataset.iloc[:, 3:13]\n",
        "y = dataset.iloc[:, 13]"
      ],
      "execution_count": 11,
      "outputs": []
    },
    {
      "cell_type": "code",
      "metadata": {
        "id": "-bK2n2GPr-80",
        "outputId": "6c8884ce-1260-4277-dbd9-37ca26bffafb",
        "colab": {
          "base_uri": "https://localhost:8080/",
          "height": 439
        }
      },
      "source": [
        "dataset"
      ],
      "execution_count": 12,
      "outputs": [
        {
          "output_type": "execute_result",
          "data": {
            "text/html": [
              "<div>\n",
              "<style scoped>\n",
              "    .dataframe tbody tr th:only-of-type {\n",
              "        vertical-align: middle;\n",
              "    }\n",
              "\n",
              "    .dataframe tbody tr th {\n",
              "        vertical-align: top;\n",
              "    }\n",
              "\n",
              "    .dataframe thead th {\n",
              "        text-align: right;\n",
              "    }\n",
              "</style>\n",
              "<table border=\"1\" class=\"dataframe\">\n",
              "  <thead>\n",
              "    <tr style=\"text-align: right;\">\n",
              "      <th></th>\n",
              "      <th>RowNumber</th>\n",
              "      <th>CustomerId</th>\n",
              "      <th>Surname</th>\n",
              "      <th>CreditScore</th>\n",
              "      <th>Geography</th>\n",
              "      <th>Gender</th>\n",
              "      <th>Age</th>\n",
              "      <th>Tenure</th>\n",
              "      <th>Balance</th>\n",
              "      <th>NumOfProducts</th>\n",
              "      <th>HasCrCard</th>\n",
              "      <th>IsActiveMember</th>\n",
              "      <th>EstimatedSalary</th>\n",
              "      <th>Exited</th>\n",
              "    </tr>\n",
              "  </thead>\n",
              "  <tbody>\n",
              "    <tr>\n",
              "      <th>0</th>\n",
              "      <td>1</td>\n",
              "      <td>15634602</td>\n",
              "      <td>Hargrave</td>\n",
              "      <td>619</td>\n",
              "      <td>France</td>\n",
              "      <td>Female</td>\n",
              "      <td>42</td>\n",
              "      <td>2</td>\n",
              "      <td>0.00</td>\n",
              "      <td>1</td>\n",
              "      <td>1</td>\n",
              "      <td>1</td>\n",
              "      <td>101348.88</td>\n",
              "      <td>1</td>\n",
              "    </tr>\n",
              "    <tr>\n",
              "      <th>1</th>\n",
              "      <td>2</td>\n",
              "      <td>15647311</td>\n",
              "      <td>Hill</td>\n",
              "      <td>608</td>\n",
              "      <td>Spain</td>\n",
              "      <td>Female</td>\n",
              "      <td>41</td>\n",
              "      <td>1</td>\n",
              "      <td>83807.86</td>\n",
              "      <td>1</td>\n",
              "      <td>0</td>\n",
              "      <td>1</td>\n",
              "      <td>112542.58</td>\n",
              "      <td>0</td>\n",
              "    </tr>\n",
              "    <tr>\n",
              "      <th>2</th>\n",
              "      <td>3</td>\n",
              "      <td>15619304</td>\n",
              "      <td>Onio</td>\n",
              "      <td>502</td>\n",
              "      <td>France</td>\n",
              "      <td>Female</td>\n",
              "      <td>42</td>\n",
              "      <td>8</td>\n",
              "      <td>159660.80</td>\n",
              "      <td>3</td>\n",
              "      <td>1</td>\n",
              "      <td>0</td>\n",
              "      <td>113931.57</td>\n",
              "      <td>1</td>\n",
              "    </tr>\n",
              "    <tr>\n",
              "      <th>3</th>\n",
              "      <td>4</td>\n",
              "      <td>15701354</td>\n",
              "      <td>Boni</td>\n",
              "      <td>699</td>\n",
              "      <td>France</td>\n",
              "      <td>Female</td>\n",
              "      <td>39</td>\n",
              "      <td>1</td>\n",
              "      <td>0.00</td>\n",
              "      <td>2</td>\n",
              "      <td>0</td>\n",
              "      <td>0</td>\n",
              "      <td>93826.63</td>\n",
              "      <td>0</td>\n",
              "    </tr>\n",
              "    <tr>\n",
              "      <th>4</th>\n",
              "      <td>5</td>\n",
              "      <td>15737888</td>\n",
              "      <td>Mitchell</td>\n",
              "      <td>850</td>\n",
              "      <td>Spain</td>\n",
              "      <td>Female</td>\n",
              "      <td>43</td>\n",
              "      <td>2</td>\n",
              "      <td>125510.82</td>\n",
              "      <td>1</td>\n",
              "      <td>1</td>\n",
              "      <td>1</td>\n",
              "      <td>79084.10</td>\n",
              "      <td>0</td>\n",
              "    </tr>\n",
              "    <tr>\n",
              "      <th>...</th>\n",
              "      <td>...</td>\n",
              "      <td>...</td>\n",
              "      <td>...</td>\n",
              "      <td>...</td>\n",
              "      <td>...</td>\n",
              "      <td>...</td>\n",
              "      <td>...</td>\n",
              "      <td>...</td>\n",
              "      <td>...</td>\n",
              "      <td>...</td>\n",
              "      <td>...</td>\n",
              "      <td>...</td>\n",
              "      <td>...</td>\n",
              "      <td>...</td>\n",
              "    </tr>\n",
              "    <tr>\n",
              "      <th>9995</th>\n",
              "      <td>9996</td>\n",
              "      <td>15606229</td>\n",
              "      <td>Obijiaku</td>\n",
              "      <td>771</td>\n",
              "      <td>France</td>\n",
              "      <td>Male</td>\n",
              "      <td>39</td>\n",
              "      <td>5</td>\n",
              "      <td>0.00</td>\n",
              "      <td>2</td>\n",
              "      <td>1</td>\n",
              "      <td>0</td>\n",
              "      <td>96270.64</td>\n",
              "      <td>0</td>\n",
              "    </tr>\n",
              "    <tr>\n",
              "      <th>9996</th>\n",
              "      <td>9997</td>\n",
              "      <td>15569892</td>\n",
              "      <td>Johnstone</td>\n",
              "      <td>516</td>\n",
              "      <td>France</td>\n",
              "      <td>Male</td>\n",
              "      <td>35</td>\n",
              "      <td>10</td>\n",
              "      <td>57369.61</td>\n",
              "      <td>1</td>\n",
              "      <td>1</td>\n",
              "      <td>1</td>\n",
              "      <td>101699.77</td>\n",
              "      <td>0</td>\n",
              "    </tr>\n",
              "    <tr>\n",
              "      <th>9997</th>\n",
              "      <td>9998</td>\n",
              "      <td>15584532</td>\n",
              "      <td>Liu</td>\n",
              "      <td>709</td>\n",
              "      <td>France</td>\n",
              "      <td>Female</td>\n",
              "      <td>36</td>\n",
              "      <td>7</td>\n",
              "      <td>0.00</td>\n",
              "      <td>1</td>\n",
              "      <td>0</td>\n",
              "      <td>1</td>\n",
              "      <td>42085.58</td>\n",
              "      <td>1</td>\n",
              "    </tr>\n",
              "    <tr>\n",
              "      <th>9998</th>\n",
              "      <td>9999</td>\n",
              "      <td>15682355</td>\n",
              "      <td>Sabbatini</td>\n",
              "      <td>772</td>\n",
              "      <td>Germany</td>\n",
              "      <td>Male</td>\n",
              "      <td>42</td>\n",
              "      <td>3</td>\n",
              "      <td>75075.31</td>\n",
              "      <td>2</td>\n",
              "      <td>1</td>\n",
              "      <td>0</td>\n",
              "      <td>92888.52</td>\n",
              "      <td>1</td>\n",
              "    </tr>\n",
              "    <tr>\n",
              "      <th>9999</th>\n",
              "      <td>10000</td>\n",
              "      <td>15628319</td>\n",
              "      <td>Walker</td>\n",
              "      <td>792</td>\n",
              "      <td>France</td>\n",
              "      <td>Female</td>\n",
              "      <td>28</td>\n",
              "      <td>4</td>\n",
              "      <td>130142.79</td>\n",
              "      <td>1</td>\n",
              "      <td>1</td>\n",
              "      <td>0</td>\n",
              "      <td>38190.78</td>\n",
              "      <td>0</td>\n",
              "    </tr>\n",
              "  </tbody>\n",
              "</table>\n",
              "<p>10000 rows × 14 columns</p>\n",
              "</div>"
            ],
            "text/plain": [
              "      RowNumber  CustomerId    Surname  ...  IsActiveMember EstimatedSalary Exited\n",
              "0             1    15634602   Hargrave  ...               1       101348.88      1\n",
              "1             2    15647311       Hill  ...               1       112542.58      0\n",
              "2             3    15619304       Onio  ...               0       113931.57      1\n",
              "3             4    15701354       Boni  ...               0        93826.63      0\n",
              "4             5    15737888   Mitchell  ...               1        79084.10      0\n",
              "...         ...         ...        ...  ...             ...             ...    ...\n",
              "9995       9996    15606229   Obijiaku  ...               0        96270.64      0\n",
              "9996       9997    15569892  Johnstone  ...               1       101699.77      0\n",
              "9997       9998    15584532        Liu  ...               1        42085.58      1\n",
              "9998       9999    15682355  Sabbatini  ...               0        92888.52      1\n",
              "9999      10000    15628319     Walker  ...               0        38190.78      0\n",
              "\n",
              "[10000 rows x 14 columns]"
            ]
          },
          "metadata": {
            "tags": []
          },
          "execution_count": 12
        }
      ]
    },
    {
      "cell_type": "code",
      "metadata": {
        "id": "EJWFwNHLsHOP",
        "outputId": "dea9e62e-1881-4e25-8f88-bf76227c8509",
        "colab": {
          "base_uri": "https://localhost:8080/",
          "height": 439
        }
      },
      "source": [
        "X"
      ],
      "execution_count": 13,
      "outputs": [
        {
          "output_type": "execute_result",
          "data": {
            "text/html": [
              "<div>\n",
              "<style scoped>\n",
              "    .dataframe tbody tr th:only-of-type {\n",
              "        vertical-align: middle;\n",
              "    }\n",
              "\n",
              "    .dataframe tbody tr th {\n",
              "        vertical-align: top;\n",
              "    }\n",
              "\n",
              "    .dataframe thead th {\n",
              "        text-align: right;\n",
              "    }\n",
              "</style>\n",
              "<table border=\"1\" class=\"dataframe\">\n",
              "  <thead>\n",
              "    <tr style=\"text-align: right;\">\n",
              "      <th></th>\n",
              "      <th>CreditScore</th>\n",
              "      <th>Geography</th>\n",
              "      <th>Gender</th>\n",
              "      <th>Age</th>\n",
              "      <th>Tenure</th>\n",
              "      <th>Balance</th>\n",
              "      <th>NumOfProducts</th>\n",
              "      <th>HasCrCard</th>\n",
              "      <th>IsActiveMember</th>\n",
              "      <th>EstimatedSalary</th>\n",
              "    </tr>\n",
              "  </thead>\n",
              "  <tbody>\n",
              "    <tr>\n",
              "      <th>0</th>\n",
              "      <td>619</td>\n",
              "      <td>France</td>\n",
              "      <td>Female</td>\n",
              "      <td>42</td>\n",
              "      <td>2</td>\n",
              "      <td>0.00</td>\n",
              "      <td>1</td>\n",
              "      <td>1</td>\n",
              "      <td>1</td>\n",
              "      <td>101348.88</td>\n",
              "    </tr>\n",
              "    <tr>\n",
              "      <th>1</th>\n",
              "      <td>608</td>\n",
              "      <td>Spain</td>\n",
              "      <td>Female</td>\n",
              "      <td>41</td>\n",
              "      <td>1</td>\n",
              "      <td>83807.86</td>\n",
              "      <td>1</td>\n",
              "      <td>0</td>\n",
              "      <td>1</td>\n",
              "      <td>112542.58</td>\n",
              "    </tr>\n",
              "    <tr>\n",
              "      <th>2</th>\n",
              "      <td>502</td>\n",
              "      <td>France</td>\n",
              "      <td>Female</td>\n",
              "      <td>42</td>\n",
              "      <td>8</td>\n",
              "      <td>159660.80</td>\n",
              "      <td>3</td>\n",
              "      <td>1</td>\n",
              "      <td>0</td>\n",
              "      <td>113931.57</td>\n",
              "    </tr>\n",
              "    <tr>\n",
              "      <th>3</th>\n",
              "      <td>699</td>\n",
              "      <td>France</td>\n",
              "      <td>Female</td>\n",
              "      <td>39</td>\n",
              "      <td>1</td>\n",
              "      <td>0.00</td>\n",
              "      <td>2</td>\n",
              "      <td>0</td>\n",
              "      <td>0</td>\n",
              "      <td>93826.63</td>\n",
              "    </tr>\n",
              "    <tr>\n",
              "      <th>4</th>\n",
              "      <td>850</td>\n",
              "      <td>Spain</td>\n",
              "      <td>Female</td>\n",
              "      <td>43</td>\n",
              "      <td>2</td>\n",
              "      <td>125510.82</td>\n",
              "      <td>1</td>\n",
              "      <td>1</td>\n",
              "      <td>1</td>\n",
              "      <td>79084.10</td>\n",
              "    </tr>\n",
              "    <tr>\n",
              "      <th>...</th>\n",
              "      <td>...</td>\n",
              "      <td>...</td>\n",
              "      <td>...</td>\n",
              "      <td>...</td>\n",
              "      <td>...</td>\n",
              "      <td>...</td>\n",
              "      <td>...</td>\n",
              "      <td>...</td>\n",
              "      <td>...</td>\n",
              "      <td>...</td>\n",
              "    </tr>\n",
              "    <tr>\n",
              "      <th>9995</th>\n",
              "      <td>771</td>\n",
              "      <td>France</td>\n",
              "      <td>Male</td>\n",
              "      <td>39</td>\n",
              "      <td>5</td>\n",
              "      <td>0.00</td>\n",
              "      <td>2</td>\n",
              "      <td>1</td>\n",
              "      <td>0</td>\n",
              "      <td>96270.64</td>\n",
              "    </tr>\n",
              "    <tr>\n",
              "      <th>9996</th>\n",
              "      <td>516</td>\n",
              "      <td>France</td>\n",
              "      <td>Male</td>\n",
              "      <td>35</td>\n",
              "      <td>10</td>\n",
              "      <td>57369.61</td>\n",
              "      <td>1</td>\n",
              "      <td>1</td>\n",
              "      <td>1</td>\n",
              "      <td>101699.77</td>\n",
              "    </tr>\n",
              "    <tr>\n",
              "      <th>9997</th>\n",
              "      <td>709</td>\n",
              "      <td>France</td>\n",
              "      <td>Female</td>\n",
              "      <td>36</td>\n",
              "      <td>7</td>\n",
              "      <td>0.00</td>\n",
              "      <td>1</td>\n",
              "      <td>0</td>\n",
              "      <td>1</td>\n",
              "      <td>42085.58</td>\n",
              "    </tr>\n",
              "    <tr>\n",
              "      <th>9998</th>\n",
              "      <td>772</td>\n",
              "      <td>Germany</td>\n",
              "      <td>Male</td>\n",
              "      <td>42</td>\n",
              "      <td>3</td>\n",
              "      <td>75075.31</td>\n",
              "      <td>2</td>\n",
              "      <td>1</td>\n",
              "      <td>0</td>\n",
              "      <td>92888.52</td>\n",
              "    </tr>\n",
              "    <tr>\n",
              "      <th>9999</th>\n",
              "      <td>792</td>\n",
              "      <td>France</td>\n",
              "      <td>Female</td>\n",
              "      <td>28</td>\n",
              "      <td>4</td>\n",
              "      <td>130142.79</td>\n",
              "      <td>1</td>\n",
              "      <td>1</td>\n",
              "      <td>0</td>\n",
              "      <td>38190.78</td>\n",
              "    </tr>\n",
              "  </tbody>\n",
              "</table>\n",
              "<p>10000 rows × 10 columns</p>\n",
              "</div>"
            ],
            "text/plain": [
              "      CreditScore Geography  Gender  ...  HasCrCard  IsActiveMember  EstimatedSalary\n",
              "0             619    France  Female  ...          1               1        101348.88\n",
              "1             608     Spain  Female  ...          0               1        112542.58\n",
              "2             502    France  Female  ...          1               0        113931.57\n",
              "3             699    France  Female  ...          0               0         93826.63\n",
              "4             850     Spain  Female  ...          1               1         79084.10\n",
              "...           ...       ...     ...  ...        ...             ...              ...\n",
              "9995          771    France    Male  ...          1               0         96270.64\n",
              "9996          516    France    Male  ...          1               1        101699.77\n",
              "9997          709    France  Female  ...          0               1         42085.58\n",
              "9998          772   Germany    Male  ...          1               0         92888.52\n",
              "9999          792    France  Female  ...          1               0         38190.78\n",
              "\n",
              "[10000 rows x 10 columns]"
            ]
          },
          "metadata": {
            "tags": []
          },
          "execution_count": 13
        }
      ]
    },
    {
      "cell_type": "code",
      "metadata": {
        "id": "T8w6c4hoJL8c",
        "outputId": "5e44f930-6f14-4bb4-c4fc-a8ff9b64fe34",
        "colab": {
          "base_uri": "https://localhost:8080/"
        }
      },
      "source": [
        "y"
      ],
      "execution_count": 14,
      "outputs": [
        {
          "output_type": "execute_result",
          "data": {
            "text/plain": [
              "0       1\n",
              "1       0\n",
              "2       1\n",
              "3       0\n",
              "4       0\n",
              "       ..\n",
              "9995    0\n",
              "9996    0\n",
              "9997    1\n",
              "9998    1\n",
              "9999    0\n",
              "Name: Exited, Length: 10000, dtype: int64"
            ]
          },
          "metadata": {
            "tags": []
          },
          "execution_count": 14
        }
      ]
    },
    {
      "cell_type": "code",
      "metadata": {
        "id": "vszD-bSWJQnD"
      },
      "source": [
        "#Create dummy variables\n",
        "geography=pd.get_dummies(X[\"Geography\"],drop_first=True)\n",
        "gender=pd.get_dummies(X['Gender'],drop_first=True)"
      ],
      "execution_count": 15,
      "outputs": []
    },
    {
      "cell_type": "code",
      "metadata": {
        "id": "F0hZLs36JU_D"
      },
      "source": [
        "## Concatenate the Data Frames\n",
        "\n",
        "X=pd.concat([X,geography,gender],axis=1)"
      ],
      "execution_count": 16,
      "outputs": []
    },
    {
      "cell_type": "code",
      "metadata": {
        "id": "rsNpo9YgJX-m"
      },
      "source": [
        "## Drop Unnecessary columns\n",
        "X=X.drop(['Geography','Gender'],axis=1)"
      ],
      "execution_count": 17,
      "outputs": []
    },
    {
      "cell_type": "code",
      "metadata": {
        "id": "ejfJM2oHJY1S"
      },
      "source": [
        "# Splitting the dataset into the Training set and Test set\n",
        "from sklearn.model_selection import train_test_split\n",
        "X_train, X_test, y_train, y_test = train_test_split(X, y, test_size = 0.2, random_state = 0)"
      ],
      "execution_count": 18,
      "outputs": []
    },
    {
      "cell_type": "code",
      "metadata": {
        "id": "oeHRVuJ8JbSW"
      },
      "source": [
        "# Feature Scaling\n",
        "from sklearn.preprocessing import StandardScaler\n",
        "sc = StandardScaler()\n",
        "X_train = sc.fit_transform(X_train)\n",
        "X_test = sc.transform(X_test)"
      ],
      "execution_count": 19,
      "outputs": []
    },
    {
      "cell_type": "code",
      "metadata": {
        "id": "8y_cWUPQJe2t"
      },
      "source": [
        "# Part 2 - Now let's make the ANN!\n",
        "\n",
        "# Importing the Keras libraries and packages\n",
        "import keras\n",
        "from keras.models import Sequential\n",
        "from keras.layers import Dense\n",
        "from keras.layers import LeakyReLU,PReLU,ELU\n",
        "from keras.layers import Dropout\n"
      ],
      "execution_count": 20,
      "outputs": []
    },
    {
      "cell_type": "code",
      "metadata": {
        "id": "-Ofwzlr8Jf9H"
      },
      "source": [
        "# Initialising the ANN\n",
        "classifier = Sequential()"
      ],
      "execution_count": 21,
      "outputs": []
    },
    {
      "cell_type": "code",
      "metadata": {
        "id": "sllIzs1MeXO7"
      },
      "source": [
        "# Adding the input layer and the first hidden layer\n",
        "classifier.add(Dense( units = 6, kernel_initializer = 'he_uniform',activation='relu',input_dim = 11))"
      ],
      "execution_count": 28,
      "outputs": []
    },
    {
      "cell_type": "code",
      "metadata": {
        "id": "pTGBQUooft0t"
      },
      "source": [
        "# Adding the second hidden layer\n",
        "classifier.add(Dense( units = 6, kernel_initializer = 'he_uniform',activation='relu'))"
      ],
      "execution_count": 29,
      "outputs": []
    },
    {
      "cell_type": "code",
      "metadata": {
        "id": "x336PbPrf5eR"
      },
      "source": [
        "# Adding the output layer\n",
        "classifier.add(Dense( units = 1, kernel_initializer = 'he_uniform',activation='sigmoid'))"
      ],
      "execution_count": 32,
      "outputs": []
    },
    {
      "cell_type": "code",
      "metadata": {
        "id": "G-DVeVcCgWh0",
        "outputId": "13726427-7704-412c-ae29-2d561c5fa509",
        "colab": {
          "base_uri": "https://localhost:8080/"
        }
      },
      "source": [
        "classifier.summary()"
      ],
      "execution_count": 33,
      "outputs": [
        {
          "output_type": "stream",
          "text": [
            "Model: \"sequential\"\n",
            "_________________________________________________________________\n",
            "Layer (type)                 Output Shape              Param #   \n",
            "=================================================================\n",
            "dense (Dense)                (None, 6)                 72        \n",
            "_________________________________________________________________\n",
            "dense_1 (Dense)              (None, 6)                 42        \n",
            "_________________________________________________________________\n",
            "dense_2 (Dense)              (None, 6)                 42        \n",
            "_________________________________________________________________\n",
            "dense_3 (Dense)              (None, 6)                 42        \n",
            "_________________________________________________________________\n",
            "dense_4 (Dense)              (None, 1)                 7         \n",
            "=================================================================\n",
            "Total params: 205\n",
            "Trainable params: 205\n",
            "Non-trainable params: 0\n",
            "_________________________________________________________________\n"
          ],
          "name": "stdout"
        }
      ]
    },
    {
      "cell_type": "code",
      "metadata": {
        "id": "4AIb2rZ9g1hp"
      },
      "source": [
        "# Compiling the ANN\n",
        "classifier.compile(optimizer = 'Adam', loss = 'binary_crossentropy', metrics = ['accuracy'])"
      ],
      "execution_count": 35,
      "outputs": []
    },
    {
      "cell_type": "code",
      "metadata": {
        "id": "vOnlNbvHg3Mh",
        "outputId": "8ea7d8f0-4c0e-4126-af7d-69af9e03457d",
        "colab": {
          "base_uri": "https://localhost:8080/"
        }
      },
      "source": [
        "# Fitting the ANN to the Training set\n",
        "model_history=classifier.fit(X_train, y_train,validation_split=0.33, batch_size = 10, epochs = 100)\n"
      ],
      "execution_count": 38,
      "outputs": [
        {
          "output_type": "stream",
          "text": [
            "Epoch 1/100\n",
            "536/536 [==============================] - 2s 3ms/step - loss: 0.5511 - accuracy: 0.7500 - val_loss: 0.4980 - val_accuracy: 0.7955\n",
            "Epoch 2/100\n",
            "536/536 [==============================] - 2s 3ms/step - loss: 0.4855 - accuracy: 0.7962 - val_loss: 0.4735 - val_accuracy: 0.7955\n",
            "Epoch 3/100\n",
            "536/536 [==============================] - 2s 3ms/step - loss: 0.4562 - accuracy: 0.7962 - val_loss: 0.4535 - val_accuracy: 0.7955\n",
            "Epoch 4/100\n",
            "536/536 [==============================] - 2s 3ms/step - loss: 0.4400 - accuracy: 0.7962 - val_loss: 0.4444 - val_accuracy: 0.7955\n",
            "Epoch 5/100\n",
            "536/536 [==============================] - 2s 3ms/step - loss: 0.4334 - accuracy: 0.7964 - val_loss: 0.4408 - val_accuracy: 0.7974\n",
            "Epoch 6/100\n",
            "536/536 [==============================] - 2s 3ms/step - loss: 0.4301 - accuracy: 0.8005 - val_loss: 0.4397 - val_accuracy: 0.7978\n",
            "Epoch 7/100\n",
            "536/536 [==============================] - 2s 3ms/step - loss: 0.4276 - accuracy: 0.8031 - val_loss: 0.4389 - val_accuracy: 0.8035\n",
            "Epoch 8/100\n",
            "536/536 [==============================] - 2s 3ms/step - loss: 0.4254 - accuracy: 0.8089 - val_loss: 0.4381 - val_accuracy: 0.7989\n",
            "Epoch 9/100\n",
            "536/536 [==============================] - 2s 3ms/step - loss: 0.4235 - accuracy: 0.8138 - val_loss: 0.4374 - val_accuracy: 0.8027\n",
            "Epoch 10/100\n",
            "536/536 [==============================] - 2s 3ms/step - loss: 0.4221 - accuracy: 0.8121 - val_loss: 0.4368 - val_accuracy: 0.8035\n",
            "Epoch 11/100\n",
            "536/536 [==============================] - 2s 3ms/step - loss: 0.4206 - accuracy: 0.8145 - val_loss: 0.4359 - val_accuracy: 0.8042\n",
            "Epoch 12/100\n",
            "536/536 [==============================] - 2s 3ms/step - loss: 0.4192 - accuracy: 0.8179 - val_loss: 0.4354 - val_accuracy: 0.8069\n",
            "Epoch 13/100\n",
            "536/536 [==============================] - 2s 3ms/step - loss: 0.4184 - accuracy: 0.8212 - val_loss: 0.4342 - val_accuracy: 0.8111\n",
            "Epoch 14/100\n",
            "536/536 [==============================] - 2s 3ms/step - loss: 0.4170 - accuracy: 0.8205 - val_loss: 0.4341 - val_accuracy: 0.8084\n",
            "Epoch 15/100\n",
            "536/536 [==============================] - 2s 3ms/step - loss: 0.4162 - accuracy: 0.8235 - val_loss: 0.4331 - val_accuracy: 0.8114\n",
            "Epoch 16/100\n",
            "536/536 [==============================] - 2s 3ms/step - loss: 0.4156 - accuracy: 0.8229 - val_loss: 0.4328 - val_accuracy: 0.8122\n",
            "Epoch 17/100\n",
            "536/536 [==============================] - 2s 3ms/step - loss: 0.4145 - accuracy: 0.8224 - val_loss: 0.4322 - val_accuracy: 0.8061\n",
            "Epoch 18/100\n",
            "536/536 [==============================] - 2s 3ms/step - loss: 0.4138 - accuracy: 0.8233 - val_loss: 0.4309 - val_accuracy: 0.8103\n",
            "Epoch 19/100\n",
            "536/536 [==============================] - 2s 3ms/step - loss: 0.4126 - accuracy: 0.8231 - val_loss: 0.4320 - val_accuracy: 0.8171\n",
            "Epoch 20/100\n",
            "536/536 [==============================] - 2s 3ms/step - loss: 0.4119 - accuracy: 0.8261 - val_loss: 0.4294 - val_accuracy: 0.8156\n",
            "Epoch 21/100\n",
            "536/536 [==============================] - 2s 3ms/step - loss: 0.4105 - accuracy: 0.8255 - val_loss: 0.4286 - val_accuracy: 0.8137\n",
            "Epoch 22/100\n",
            "536/536 [==============================] - 2s 3ms/step - loss: 0.4097 - accuracy: 0.8272 - val_loss: 0.4264 - val_accuracy: 0.8164\n",
            "Epoch 23/100\n",
            "536/536 [==============================] - 2s 3ms/step - loss: 0.4082 - accuracy: 0.8281 - val_loss: 0.4258 - val_accuracy: 0.8171\n",
            "Epoch 24/100\n",
            "536/536 [==============================] - 2s 3ms/step - loss: 0.4063 - accuracy: 0.8283 - val_loss: 0.4246 - val_accuracy: 0.8148\n",
            "Epoch 25/100\n",
            "536/536 [==============================] - 2s 3ms/step - loss: 0.4047 - accuracy: 0.8313 - val_loss: 0.4230 - val_accuracy: 0.8164\n",
            "Epoch 26/100\n",
            "536/536 [==============================] - 2s 3ms/step - loss: 0.4029 - accuracy: 0.8315 - val_loss: 0.4207 - val_accuracy: 0.8186\n",
            "Epoch 27/100\n",
            "536/536 [==============================] - 2s 3ms/step - loss: 0.4004 - accuracy: 0.8328 - val_loss: 0.4183 - val_accuracy: 0.8217\n",
            "Epoch 28/100\n",
            "536/536 [==============================] - 2s 3ms/step - loss: 0.3979 - accuracy: 0.8336 - val_loss: 0.4161 - val_accuracy: 0.8251\n",
            "Epoch 29/100\n",
            "536/536 [==============================] - 2s 3ms/step - loss: 0.3954 - accuracy: 0.8343 - val_loss: 0.4160 - val_accuracy: 0.8171\n",
            "Epoch 30/100\n",
            "536/536 [==============================] - 2s 3ms/step - loss: 0.3928 - accuracy: 0.8352 - val_loss: 0.4114 - val_accuracy: 0.8243\n",
            "Epoch 31/100\n",
            "536/536 [==============================] - 2s 3ms/step - loss: 0.3897 - accuracy: 0.8380 - val_loss: 0.4075 - val_accuracy: 0.8217\n",
            "Epoch 32/100\n",
            "536/536 [==============================] - 2s 3ms/step - loss: 0.3861 - accuracy: 0.8386 - val_loss: 0.4036 - val_accuracy: 0.8258\n",
            "Epoch 33/100\n",
            "536/536 [==============================] - 2s 3ms/step - loss: 0.3823 - accuracy: 0.8421 - val_loss: 0.3988 - val_accuracy: 0.8315\n",
            "Epoch 34/100\n",
            "536/536 [==============================] - 2s 3ms/step - loss: 0.3765 - accuracy: 0.8438 - val_loss: 0.3951 - val_accuracy: 0.8311\n",
            "Epoch 35/100\n",
            "536/536 [==============================] - 2s 3ms/step - loss: 0.3700 - accuracy: 0.8459 - val_loss: 0.3893 - val_accuracy: 0.8383\n",
            "Epoch 36/100\n",
            "536/536 [==============================] - 2s 3ms/step - loss: 0.3645 - accuracy: 0.8477 - val_loss: 0.3849 - val_accuracy: 0.8357\n",
            "Epoch 37/100\n",
            "536/536 [==============================] - 2s 3ms/step - loss: 0.3591 - accuracy: 0.8533 - val_loss: 0.3814 - val_accuracy: 0.8417\n",
            "Epoch 38/100\n",
            "536/536 [==============================] - 2s 3ms/step - loss: 0.3552 - accuracy: 0.8535 - val_loss: 0.3784 - val_accuracy: 0.8398\n",
            "Epoch 39/100\n",
            "536/536 [==============================] - 2s 3ms/step - loss: 0.3515 - accuracy: 0.8572 - val_loss: 0.3756 - val_accuracy: 0.8429\n",
            "Epoch 40/100\n",
            "536/536 [==============================] - 2s 3ms/step - loss: 0.3495 - accuracy: 0.8561 - val_loss: 0.3725 - val_accuracy: 0.8421\n",
            "Epoch 41/100\n",
            "536/536 [==============================] - 2s 3ms/step - loss: 0.3470 - accuracy: 0.8584 - val_loss: 0.3698 - val_accuracy: 0.8444\n",
            "Epoch 42/100\n",
            "536/536 [==============================] - 2s 3ms/step - loss: 0.3460 - accuracy: 0.8574 - val_loss: 0.3689 - val_accuracy: 0.8463\n",
            "Epoch 43/100\n",
            "536/536 [==============================] - 2s 3ms/step - loss: 0.3446 - accuracy: 0.8600 - val_loss: 0.3664 - val_accuracy: 0.8459\n",
            "Epoch 44/100\n",
            "536/536 [==============================] - 2s 3ms/step - loss: 0.3431 - accuracy: 0.8600 - val_loss: 0.3654 - val_accuracy: 0.8501\n",
            "Epoch 45/100\n",
            "536/536 [==============================] - 2s 3ms/step - loss: 0.3424 - accuracy: 0.8600 - val_loss: 0.3650 - val_accuracy: 0.8493\n",
            "Epoch 46/100\n",
            "536/536 [==============================] - 2s 3ms/step - loss: 0.3420 - accuracy: 0.8614 - val_loss: 0.3662 - val_accuracy: 0.8482\n",
            "Epoch 47/100\n",
            "536/536 [==============================] - 2s 3ms/step - loss: 0.3412 - accuracy: 0.8597 - val_loss: 0.3637 - val_accuracy: 0.8501\n",
            "Epoch 48/100\n",
            "536/536 [==============================] - 2s 3ms/step - loss: 0.3400 - accuracy: 0.8630 - val_loss: 0.3622 - val_accuracy: 0.8531\n",
            "Epoch 49/100\n",
            "536/536 [==============================] - 2s 3ms/step - loss: 0.3394 - accuracy: 0.8621 - val_loss: 0.3632 - val_accuracy: 0.8501\n",
            "Epoch 50/100\n",
            "536/536 [==============================] - 2s 3ms/step - loss: 0.3396 - accuracy: 0.8614 - val_loss: 0.3609 - val_accuracy: 0.8512\n",
            "Epoch 51/100\n",
            "536/536 [==============================] - 2s 3ms/step - loss: 0.3385 - accuracy: 0.8623 - val_loss: 0.3597 - val_accuracy: 0.8550\n",
            "Epoch 52/100\n",
            "536/536 [==============================] - 2s 3ms/step - loss: 0.3378 - accuracy: 0.8619 - val_loss: 0.3614 - val_accuracy: 0.8504\n",
            "Epoch 53/100\n",
            "536/536 [==============================] - 2s 3ms/step - loss: 0.3378 - accuracy: 0.8632 - val_loss: 0.3595 - val_accuracy: 0.8538\n",
            "Epoch 54/100\n",
            "536/536 [==============================] - 2s 3ms/step - loss: 0.3370 - accuracy: 0.8608 - val_loss: 0.3607 - val_accuracy: 0.8527\n",
            "Epoch 55/100\n",
            "536/536 [==============================] - 2s 3ms/step - loss: 0.3360 - accuracy: 0.8614 - val_loss: 0.3598 - val_accuracy: 0.8527\n",
            "Epoch 56/100\n",
            "536/536 [==============================] - 2s 3ms/step - loss: 0.3364 - accuracy: 0.8621 - val_loss: 0.3582 - val_accuracy: 0.8527\n",
            "Epoch 57/100\n",
            "536/536 [==============================] - 2s 3ms/step - loss: 0.3356 - accuracy: 0.8625 - val_loss: 0.3598 - val_accuracy: 0.8527\n",
            "Epoch 58/100\n",
            "536/536 [==============================] - 2s 3ms/step - loss: 0.3352 - accuracy: 0.8612 - val_loss: 0.3581 - val_accuracy: 0.8523\n",
            "Epoch 59/100\n",
            "536/536 [==============================] - 2s 3ms/step - loss: 0.3352 - accuracy: 0.8638 - val_loss: 0.3570 - val_accuracy: 0.8550\n",
            "Epoch 60/100\n",
            "536/536 [==============================] - 2s 3ms/step - loss: 0.3349 - accuracy: 0.8653 - val_loss: 0.3619 - val_accuracy: 0.8519\n",
            "Epoch 61/100\n",
            "536/536 [==============================] - 2s 3ms/step - loss: 0.3340 - accuracy: 0.8625 - val_loss: 0.3656 - val_accuracy: 0.8527\n",
            "Epoch 62/100\n",
            "536/536 [==============================] - 2s 3ms/step - loss: 0.3343 - accuracy: 0.8647 - val_loss: 0.3566 - val_accuracy: 0.8542\n",
            "Epoch 63/100\n",
            "536/536 [==============================] - 2s 3ms/step - loss: 0.3338 - accuracy: 0.8617 - val_loss: 0.3584 - val_accuracy: 0.8535\n",
            "Epoch 64/100\n",
            "536/536 [==============================] - 2s 3ms/step - loss: 0.3330 - accuracy: 0.8647 - val_loss: 0.3579 - val_accuracy: 0.8542\n",
            "Epoch 65/100\n",
            "536/536 [==============================] - 2s 3ms/step - loss: 0.3327 - accuracy: 0.8628 - val_loss: 0.3571 - val_accuracy: 0.8538\n",
            "Epoch 66/100\n",
            "536/536 [==============================] - 2s 3ms/step - loss: 0.3327 - accuracy: 0.8645 - val_loss: 0.3565 - val_accuracy: 0.8557\n",
            "Epoch 67/100\n",
            "536/536 [==============================] - 2s 3ms/step - loss: 0.3322 - accuracy: 0.8630 - val_loss: 0.3584 - val_accuracy: 0.8535\n",
            "Epoch 68/100\n",
            "536/536 [==============================] - 2s 3ms/step - loss: 0.3322 - accuracy: 0.8671 - val_loss: 0.3579 - val_accuracy: 0.8527\n",
            "Epoch 69/100\n",
            "536/536 [==============================] - 2s 3ms/step - loss: 0.3315 - accuracy: 0.8670 - val_loss: 0.3565 - val_accuracy: 0.8554\n",
            "Epoch 70/100\n",
            "536/536 [==============================] - 2s 3ms/step - loss: 0.3308 - accuracy: 0.8660 - val_loss: 0.3596 - val_accuracy: 0.8527\n",
            "Epoch 71/100\n",
            "536/536 [==============================] - 2s 3ms/step - loss: 0.3316 - accuracy: 0.8656 - val_loss: 0.3584 - val_accuracy: 0.8535\n",
            "Epoch 72/100\n",
            "536/536 [==============================] - 2s 3ms/step - loss: 0.3308 - accuracy: 0.8673 - val_loss: 0.3564 - val_accuracy: 0.8516\n",
            "Epoch 73/100\n",
            "536/536 [==============================] - 2s 3ms/step - loss: 0.3305 - accuracy: 0.8653 - val_loss: 0.3594 - val_accuracy: 0.8493\n",
            "Epoch 74/100\n",
            "536/536 [==============================] - 2s 3ms/step - loss: 0.3302 - accuracy: 0.8658 - val_loss: 0.3576 - val_accuracy: 0.8542\n",
            "Epoch 75/100\n",
            "536/536 [==============================] - 2s 3ms/step - loss: 0.3299 - accuracy: 0.8664 - val_loss: 0.3627 - val_accuracy: 0.8546\n",
            "Epoch 76/100\n",
            "536/536 [==============================] - 2s 3ms/step - loss: 0.3303 - accuracy: 0.8653 - val_loss: 0.3577 - val_accuracy: 0.8535\n",
            "Epoch 77/100\n",
            "536/536 [==============================] - 2s 3ms/step - loss: 0.3300 - accuracy: 0.8645 - val_loss: 0.3579 - val_accuracy: 0.8557\n",
            "Epoch 78/100\n",
            "536/536 [==============================] - 2s 3ms/step - loss: 0.3290 - accuracy: 0.8677 - val_loss: 0.3585 - val_accuracy: 0.8519\n",
            "Epoch 79/100\n",
            "536/536 [==============================] - 2s 3ms/step - loss: 0.3285 - accuracy: 0.8681 - val_loss: 0.3580 - val_accuracy: 0.8550\n",
            "Epoch 80/100\n",
            "536/536 [==============================] - 2s 3ms/step - loss: 0.3285 - accuracy: 0.8688 - val_loss: 0.3587 - val_accuracy: 0.8535\n",
            "Epoch 81/100\n",
            "536/536 [==============================] - 2s 3ms/step - loss: 0.3285 - accuracy: 0.8656 - val_loss: 0.3579 - val_accuracy: 0.8557\n",
            "Epoch 82/100\n",
            "536/536 [==============================] - 2s 3ms/step - loss: 0.3289 - accuracy: 0.8688 - val_loss: 0.3586 - val_accuracy: 0.8535\n",
            "Epoch 83/100\n",
            "536/536 [==============================] - 2s 3ms/step - loss: 0.3280 - accuracy: 0.8675 - val_loss: 0.3576 - val_accuracy: 0.8527\n",
            "Epoch 84/100\n",
            "536/536 [==============================] - 2s 3ms/step - loss: 0.3281 - accuracy: 0.8690 - val_loss: 0.3579 - val_accuracy: 0.8550\n",
            "Epoch 85/100\n",
            "536/536 [==============================] - 2s 3ms/step - loss: 0.3277 - accuracy: 0.8679 - val_loss: 0.3602 - val_accuracy: 0.8523\n",
            "Epoch 86/100\n",
            "536/536 [==============================] - 2s 3ms/step - loss: 0.3275 - accuracy: 0.8671 - val_loss: 0.3629 - val_accuracy: 0.8485\n",
            "Epoch 87/100\n",
            "536/536 [==============================] - 2s 3ms/step - loss: 0.3276 - accuracy: 0.8673 - val_loss: 0.3586 - val_accuracy: 0.8535\n",
            "Epoch 88/100\n",
            "536/536 [==============================] - 2s 3ms/step - loss: 0.3272 - accuracy: 0.8664 - val_loss: 0.3590 - val_accuracy: 0.8523\n",
            "Epoch 89/100\n",
            "536/536 [==============================] - 2s 3ms/step - loss: 0.3270 - accuracy: 0.8684 - val_loss: 0.3590 - val_accuracy: 0.8554\n",
            "Epoch 90/100\n",
            "536/536 [==============================] - 2s 3ms/step - loss: 0.3273 - accuracy: 0.8670 - val_loss: 0.3609 - val_accuracy: 0.8508\n",
            "Epoch 91/100\n",
            "536/536 [==============================] - 2s 3ms/step - loss: 0.3263 - accuracy: 0.8645 - val_loss: 0.3616 - val_accuracy: 0.8523\n",
            "Epoch 92/100\n",
            "536/536 [==============================] - 2s 3ms/step - loss: 0.3266 - accuracy: 0.8694 - val_loss: 0.3593 - val_accuracy: 0.8531\n",
            "Epoch 93/100\n",
            "536/536 [==============================] - 2s 3ms/step - loss: 0.3262 - accuracy: 0.8694 - val_loss: 0.3602 - val_accuracy: 0.8554\n",
            "Epoch 94/100\n",
            "536/536 [==============================] - 2s 3ms/step - loss: 0.3263 - accuracy: 0.8677 - val_loss: 0.3602 - val_accuracy: 0.8523\n",
            "Epoch 95/100\n",
            "536/536 [==============================] - 2s 3ms/step - loss: 0.3265 - accuracy: 0.8668 - val_loss: 0.3590 - val_accuracy: 0.8557\n",
            "Epoch 96/100\n",
            "536/536 [==============================] - 2s 3ms/step - loss: 0.3269 - accuracy: 0.8664 - val_loss: 0.3601 - val_accuracy: 0.8501\n",
            "Epoch 97/100\n",
            "536/536 [==============================] - 2s 3ms/step - loss: 0.3265 - accuracy: 0.8684 - val_loss: 0.3595 - val_accuracy: 0.8516\n",
            "Epoch 98/100\n",
            "536/536 [==============================] - 2s 3ms/step - loss: 0.3266 - accuracy: 0.8656 - val_loss: 0.3597 - val_accuracy: 0.8519\n",
            "Epoch 99/100\n",
            "536/536 [==============================] - 2s 3ms/step - loss: 0.3256 - accuracy: 0.8692 - val_loss: 0.3594 - val_accuracy: 0.8542\n",
            "Epoch 100/100\n",
            "536/536 [==============================] - 2s 3ms/step - loss: 0.3254 - accuracy: 0.8671 - val_loss: 0.3607 - val_accuracy: 0.8493\n"
          ],
          "name": "stdout"
        }
      ]
    },
    {
      "cell_type": "code",
      "metadata": {
        "id": "JmqIi6FOjna9",
        "outputId": "c691e103-943f-4238-929f-0e6ca461b9eb",
        "colab": {
          "base_uri": "https://localhost:8080/",
          "height": 312
        }
      },
      "source": [
        "# list all data in history\n",
        "\n",
        "print(model_history.history.keys())\n",
        "# summarize history for accuracy\n",
        "plt.plot(model_history.history['accuracy'])\n",
        "plt.plot(model_history.history['val_accuracy'])\n",
        "plt.title('model accuracy')\n",
        "plt.ylabel('accuracy')\n",
        "plt.xlabel('epoch')\n",
        "plt.legend(['train', 'test'], loc='upper left')\n",
        "plt.show()"
      ],
      "execution_count": 40,
      "outputs": [
        {
          "output_type": "stream",
          "text": [
            "dict_keys(['loss', 'accuracy', 'val_loss', 'val_accuracy'])\n"
          ],
          "name": "stdout"
        },
        {
          "output_type": "display_data",
          "data": {
            "image/png": "[encoded data removed]",
            "text/plain": [
              "<Figure size 432x288 with 1 Axes>"
            ]
          },
          "metadata": {
            "tags": [],
            "needs_background": "light"
          }
        }
      ]
    },
    {
      "cell_type": "code",
      "metadata": {
        "id": "LfdZbJnSkOW4",
        "outputId": "98f6b6a2-b1d1-444f-a5ad-1832ad3c5d1b",
        "colab": {
          "base_uri": "https://localhost:8080/",
          "height": 295
        }
      },
      "source": [
        "# summarize history for loss\n",
        "plt.plot(model_history.history['loss'])\n",
        "plt.plot(model_history.history['val_loss'])\n",
        "plt.title('model loss')\n",
        "plt.ylabel('loss')\n",
        "plt.xlabel('epoch')\n",
        "plt.legend(['train', 'test'], loc='upper left')\n",
        "plt.show()"
      ],
      "execution_count": 41,
      "outputs": [
        {
          "output_type": "display_data",
          "data": {
            "image/png": "[encoded data removed]",
            "text/plain": [
              "<Figure size 432x288 with 1 Axes>"
            ]
          },
          "metadata": {
            "tags": [],
            "needs_background": "light"
          }
        }
      ]
    },
    {
      "cell_type": "code",
      "metadata": {
        "id": "5GsH6cBYkRPj",
        "outputId": "a2dd99c5-67e6-448f-aa32-01293e3d8cd4",
        "colab": {
          "base_uri": "https://localhost:8080/"
        }
      },
      "source": [
        "# Part 3 - Making the predictions and evaluating the model\n",
        "\n",
        "# Predicting the Test set results\n",
        "y_pred = classifier.predict(X_test)\n",
        "y_pred = (y_pred > 0.5)\n",
        "y_pred"
      ],
      "execution_count": 43,
      "outputs": [
        {
          "output_type": "execute_result",
          "data": {
            "text/plain": [
              "array([[False],\n",
              "       [False],\n",
              "       [False],\n",
              "       ...,\n",
              "       [False],\n",
              "       [False],\n",
              "       [False]])"
            ]
          },
          "metadata": {
            "tags": []
          },
          "execution_count": 43
        }
      ]
    },
    {
      "cell_type": "code",
      "metadata": {
        "id": "04PzIyW-kWhj",
        "outputId": "1d4c8ce8-fdef-426a-f8cb-2d4f3a707102",
        "colab": {
          "base_uri": "https://localhost:8080/"
        }
      },
      "source": [
        "# Making the Confusion Matrix\n",
        "from sklearn.metrics import confusion_matrix\n",
        "cm = confusion_matrix(y_test, y_pred)\n",
        "cm"
      ],
      "execution_count": 45,
      "outputs": [
        {
          "output_type": "execute_result",
          "data": {
            "text/plain": [
              "array([[1516,   79],\n",
              "       [ 200,  205]])"
            ]
          },
          "metadata": {
            "tags": []
          },
          "execution_count": 45
        }
      ]
    },
    {
      "cell_type": "code",
      "metadata": {
        "id": "OS2IxvUMkebY",
        "outputId": "793932a9-89e5-4018-b1b4-95e38984a21f",
        "colab": {
          "base_uri": "https://localhost:8080/"
        }
      },
      "source": [
        "# Calculate the Accuracy\n",
        "from sklearn.metrics import accuracy_score\n",
        "score=accuracy_score(y_pred,y_test)\n",
        "score"
      ],
      "execution_count": 46,
      "outputs": [
        {
          "output_type": "execute_result",
          "data": {
            "text/plain": [
              "0.8605"
            ]
          },
          "metadata": {
            "tags": []
          },
          "execution_count": 46
        }
      ]
    }
  ]
}